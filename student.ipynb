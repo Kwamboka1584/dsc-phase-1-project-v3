{
 "cells": [
  {
   "cell_type": "markdown",
   "metadata": {},
   "source": [
    "## Final Project Submission\n",
    "\n",
    "Please fill out:\n",
    "* Student name: Pacificah Asamba\n",
    "* Student pace: self paced / part time / full time - part time\n",
    "* Scheduled project review date/time:  \n",
    "* Instructor name: Madam Mwikali\n",
    "* Blog post URL:\n"
   ]
  },
  {
   "cell_type": "markdown",
   "metadata": {},
   "source": [
    "# 1. Import the relevant libraries "
   ]
  },
  {
   "cell_type": "code",
   "execution_count": 153,
   "metadata": {},
   "outputs": [],
   "source": [
    "import pandas as pd\n",
    "import matplotlib.pyplot as plt\n",
    "import seaborn as sns\n",
    "%matplotlib inline"
   ]
  },
  {
   "cell_type": "markdown",
   "metadata": {},
   "source": [
    "## 2. Load the Data into a DataFrame Called `Aviation_data`\n",
    "\n",
    "The file path is `data/Aviation_Data.csv`. Use pandas to read in the data from this CSV file and create a dataframe named `Aviation_df`."
   ]
  },
  {
   "cell_type": "code",
   "execution_count": 154,
   "metadata": {},
   "outputs": [
    {
     "name": "stderr",
     "output_type": "stream",
     "text": [
      "c:\\Users\\Admin\\anaconda3\\envs\\learn-env\\lib\\site-packages\\IPython\\core\\interactiveshell.py:3145: DtypeWarning: Columns (6,7,28) have mixed types.Specify dtype option on import or set low_memory=False.\n",
      "  has_raised = await self.run_ast_nodes(code_ast.body, cell_name,\n"
     ]
    },
    {
     "data": {
      "text/html": [
       "<div>\n",
       "<style scoped>\n",
       "    .dataframe tbody tr th:only-of-type {\n",
       "        vertical-align: middle;\n",
       "    }\n",
       "\n",
       "    .dataframe tbody tr th {\n",
       "        vertical-align: top;\n",
       "    }\n",
       "\n",
       "    .dataframe thead th {\n",
       "        text-align: right;\n",
       "    }\n",
       "</style>\n",
       "<table border=\"1\" class=\"dataframe\">\n",
       "  <thead>\n",
       "    <tr style=\"text-align: right;\">\n",
       "      <th></th>\n",
       "      <th>Event.Id</th>\n",
       "      <th>Investigation.Type</th>\n",
       "      <th>Accident.Number</th>\n",
       "      <th>Event.Date</th>\n",
       "      <th>Location</th>\n",
       "      <th>Country</th>\n",
       "      <th>Latitude</th>\n",
       "      <th>Longitude</th>\n",
       "      <th>Airport.Code</th>\n",
       "      <th>Airport.Name</th>\n",
       "      <th>...</th>\n",
       "      <th>Purpose.of.flight</th>\n",
       "      <th>Air.carrier</th>\n",
       "      <th>Total.Fatal.Injuries</th>\n",
       "      <th>Total.Serious.Injuries</th>\n",
       "      <th>Total.Minor.Injuries</th>\n",
       "      <th>Total.Uninjured</th>\n",
       "      <th>Weather.Condition</th>\n",
       "      <th>Broad.phase.of.flight</th>\n",
       "      <th>Report.Status</th>\n",
       "      <th>Publication.Date</th>\n",
       "    </tr>\n",
       "  </thead>\n",
       "  <tbody>\n",
       "    <tr>\n",
       "      <th>0</th>\n",
       "      <td>20001218X45444</td>\n",
       "      <td>Accident</td>\n",
       "      <td>SEA87LA080</td>\n",
       "      <td>1948-10-24</td>\n",
       "      <td>MOOSE CREEK, ID</td>\n",
       "      <td>United States</td>\n",
       "      <td>NaN</td>\n",
       "      <td>NaN</td>\n",
       "      <td>NaN</td>\n",
       "      <td>NaN</td>\n",
       "      <td>...</td>\n",
       "      <td>Personal</td>\n",
       "      <td>NaN</td>\n",
       "      <td>2.0</td>\n",
       "      <td>0.0</td>\n",
       "      <td>0.0</td>\n",
       "      <td>0.0</td>\n",
       "      <td>UNK</td>\n",
       "      <td>Cruise</td>\n",
       "      <td>Probable Cause</td>\n",
       "      <td>NaN</td>\n",
       "    </tr>\n",
       "    <tr>\n",
       "      <th>1</th>\n",
       "      <td>20001218X45447</td>\n",
       "      <td>Accident</td>\n",
       "      <td>LAX94LA336</td>\n",
       "      <td>1962-07-19</td>\n",
       "      <td>BRIDGEPORT, CA</td>\n",
       "      <td>United States</td>\n",
       "      <td>NaN</td>\n",
       "      <td>NaN</td>\n",
       "      <td>NaN</td>\n",
       "      <td>NaN</td>\n",
       "      <td>...</td>\n",
       "      <td>Personal</td>\n",
       "      <td>NaN</td>\n",
       "      <td>4.0</td>\n",
       "      <td>0.0</td>\n",
       "      <td>0.0</td>\n",
       "      <td>0.0</td>\n",
       "      <td>UNK</td>\n",
       "      <td>Unknown</td>\n",
       "      <td>Probable Cause</td>\n",
       "      <td>19-09-1996</td>\n",
       "    </tr>\n",
       "    <tr>\n",
       "      <th>2</th>\n",
       "      <td>20061025X01555</td>\n",
       "      <td>Accident</td>\n",
       "      <td>NYC07LA005</td>\n",
       "      <td>1974-08-30</td>\n",
       "      <td>Saltville, VA</td>\n",
       "      <td>United States</td>\n",
       "      <td>36.9222</td>\n",
       "      <td>-81.8781</td>\n",
       "      <td>NaN</td>\n",
       "      <td>NaN</td>\n",
       "      <td>...</td>\n",
       "      <td>Personal</td>\n",
       "      <td>NaN</td>\n",
       "      <td>3.0</td>\n",
       "      <td>NaN</td>\n",
       "      <td>NaN</td>\n",
       "      <td>NaN</td>\n",
       "      <td>IMC</td>\n",
       "      <td>Cruise</td>\n",
       "      <td>Probable Cause</td>\n",
       "      <td>26-02-2007</td>\n",
       "    </tr>\n",
       "    <tr>\n",
       "      <th>3</th>\n",
       "      <td>20001218X45448</td>\n",
       "      <td>Accident</td>\n",
       "      <td>LAX96LA321</td>\n",
       "      <td>1977-06-19</td>\n",
       "      <td>EUREKA, CA</td>\n",
       "      <td>United States</td>\n",
       "      <td>NaN</td>\n",
       "      <td>NaN</td>\n",
       "      <td>NaN</td>\n",
       "      <td>NaN</td>\n",
       "      <td>...</td>\n",
       "      <td>Personal</td>\n",
       "      <td>NaN</td>\n",
       "      <td>2.0</td>\n",
       "      <td>0.0</td>\n",
       "      <td>0.0</td>\n",
       "      <td>0.0</td>\n",
       "      <td>IMC</td>\n",
       "      <td>Cruise</td>\n",
       "      <td>Probable Cause</td>\n",
       "      <td>12-09-2000</td>\n",
       "    </tr>\n",
       "    <tr>\n",
       "      <th>4</th>\n",
       "      <td>20041105X01764</td>\n",
       "      <td>Accident</td>\n",
       "      <td>CHI79FA064</td>\n",
       "      <td>1979-08-02</td>\n",
       "      <td>Canton, OH</td>\n",
       "      <td>United States</td>\n",
       "      <td>NaN</td>\n",
       "      <td>NaN</td>\n",
       "      <td>NaN</td>\n",
       "      <td>NaN</td>\n",
       "      <td>...</td>\n",
       "      <td>Personal</td>\n",
       "      <td>NaN</td>\n",
       "      <td>1.0</td>\n",
       "      <td>2.0</td>\n",
       "      <td>NaN</td>\n",
       "      <td>0.0</td>\n",
       "      <td>VMC</td>\n",
       "      <td>Approach</td>\n",
       "      <td>Probable Cause</td>\n",
       "      <td>16-04-1980</td>\n",
       "    </tr>\n",
       "  </tbody>\n",
       "</table>\n",
       "<p>5 rows × 31 columns</p>\n",
       "</div>"
      ],
      "text/plain": [
       "         Event.Id Investigation.Type Accident.Number  Event.Date  \\\n",
       "0  20001218X45444           Accident      SEA87LA080  1948-10-24   \n",
       "1  20001218X45447           Accident      LAX94LA336  1962-07-19   \n",
       "2  20061025X01555           Accident      NYC07LA005  1974-08-30   \n",
       "3  20001218X45448           Accident      LAX96LA321  1977-06-19   \n",
       "4  20041105X01764           Accident      CHI79FA064  1979-08-02   \n",
       "\n",
       "          Location        Country Latitude Longitude Airport.Code  \\\n",
       "0  MOOSE CREEK, ID  United States      NaN       NaN          NaN   \n",
       "1   BRIDGEPORT, CA  United States      NaN       NaN          NaN   \n",
       "2    Saltville, VA  United States  36.9222  -81.8781          NaN   \n",
       "3       EUREKA, CA  United States      NaN       NaN          NaN   \n",
       "4       Canton, OH  United States      NaN       NaN          NaN   \n",
       "\n",
       "  Airport.Name  ... Purpose.of.flight Air.carrier Total.Fatal.Injuries  \\\n",
       "0          NaN  ...          Personal         NaN                  2.0   \n",
       "1          NaN  ...          Personal         NaN                  4.0   \n",
       "2          NaN  ...          Personal         NaN                  3.0   \n",
       "3          NaN  ...          Personal         NaN                  2.0   \n",
       "4          NaN  ...          Personal         NaN                  1.0   \n",
       "\n",
       "  Total.Serious.Injuries Total.Minor.Injuries Total.Uninjured  \\\n",
       "0                    0.0                  0.0             0.0   \n",
       "1                    0.0                  0.0             0.0   \n",
       "2                    NaN                  NaN             NaN   \n",
       "3                    0.0                  0.0             0.0   \n",
       "4                    2.0                  NaN             0.0   \n",
       "\n",
       "  Weather.Condition  Broad.phase.of.flight   Report.Status Publication.Date  \n",
       "0               UNK                 Cruise  Probable Cause              NaN  \n",
       "1               UNK                Unknown  Probable Cause       19-09-1996  \n",
       "2               IMC                 Cruise  Probable Cause       26-02-2007  \n",
       "3               IMC                 Cruise  Probable Cause       12-09-2000  \n",
       "4               VMC               Approach  Probable Cause       16-04-1980  \n",
       "\n",
       "[5 rows x 31 columns]"
      ]
     },
     "execution_count": 154,
     "metadata": {},
     "output_type": "execute_result"
    }
   ],
   "source": [
    "#load the Aviation data csv file using pandas to a dataframe called Aviation_df\n",
    "\n",
    "Aviation_df = pd.read_csv('data/Aviation_Data.csv')\n",
    "Aviation_df.head()   #run the .head() to view a sample of how our data looks like by printing the first five rows."
   ]
  },
  {
   "cell_type": "markdown",
   "metadata": {},
   "source": [
    "# 3. Data understanding\n",
    "\n",
    "### Now that we have read our data to a dataframe, we are going to get to understand our data. This is done by using various methods as below:\n",
    "\n",
    "* 1. First we need to know the shape of the data by using the .shape function\n",
    "* 2. Next we will check the various datatypes we have, the number of rows and columns and which columns have null values using the .info() method\n",
    "* 3. To know the descriptive statistics we will use the .describe method"
   ]
  },
  {
   "cell_type": "code",
   "execution_count": 155,
   "metadata": {},
   "outputs": [
    {
     "data": {
      "text/plain": [
       "(90348, 31)"
      ]
     },
     "execution_count": 155,
     "metadata": {},
     "output_type": "execute_result"
    }
   ],
   "source": [
    "# To know the number of rows and columns, do a .shape\n",
    "Aviation_df.shape"
   ]
  },
  {
   "cell_type": "markdown",
   "metadata": {},
   "source": [
    "* From the above the dataset has 90,348 rows and 31 columns"
   ]
  },
  {
   "cell_type": "code",
   "execution_count": 156,
   "metadata": {},
   "outputs": [
    {
     "data": {
      "text/plain": [
       "Index(['Event.Id', 'Investigation.Type', 'Accident.Number', 'Event.Date',\n",
       "       'Location', 'Country', 'Latitude', 'Longitude', 'Airport.Code',\n",
       "       'Airport.Name', 'Injury.Severity', 'Aircraft.damage',\n",
       "       'Aircraft.Category', 'Registration.Number', 'Make', 'Model',\n",
       "       'Amateur.Built', 'Number.of.Engines', 'Engine.Type', 'FAR.Description',\n",
       "       'Schedule', 'Purpose.of.flight', 'Air.carrier', 'Total.Fatal.Injuries',\n",
       "       'Total.Serious.Injuries', 'Total.Minor.Injuries', 'Total.Uninjured',\n",
       "       'Weather.Condition', 'Broad.phase.of.flight', 'Report.Status',\n",
       "       'Publication.Date'],\n",
       "      dtype='object')"
      ]
     },
     "execution_count": 156,
     "metadata": {},
     "output_type": "execute_result"
    }
   ],
   "source": [
    "#check the names of the columns\n",
    "Aviation_df.columns"
   ]
  },
  {
   "cell_type": "code",
   "execution_count": 157,
   "metadata": {},
   "outputs": [
    {
     "name": "stdout",
     "output_type": "stream",
     "text": [
      "<class 'pandas.core.frame.DataFrame'>\n",
      "RangeIndex: 90348 entries, 0 to 90347\n",
      "Data columns (total 31 columns):\n",
      " #   Column                  Non-Null Count  Dtype  \n",
      "---  ------                  --------------  -----  \n",
      " 0   Event.Id                88889 non-null  object \n",
      " 1   Investigation.Type      90348 non-null  object \n",
      " 2   Accident.Number         88889 non-null  object \n",
      " 3   Event.Date              88889 non-null  object \n",
      " 4   Location                88837 non-null  object \n",
      " 5   Country                 88663 non-null  object \n",
      " 6   Latitude                34382 non-null  object \n",
      " 7   Longitude               34373 non-null  object \n",
      " 8   Airport.Code            50249 non-null  object \n",
      " 9   Airport.Name            52790 non-null  object \n",
      " 10  Injury.Severity         87889 non-null  object \n",
      " 11  Aircraft.damage         85695 non-null  object \n",
      " 12  Aircraft.Category       32287 non-null  object \n",
      " 13  Registration.Number     87572 non-null  object \n",
      " 14  Make                    88826 non-null  object \n",
      " 15  Model                   88797 non-null  object \n",
      " 16  Amateur.Built           88787 non-null  object \n",
      " 17  Number.of.Engines       82805 non-null  float64\n",
      " 18  Engine.Type             81812 non-null  object \n",
      " 19  FAR.Description         32023 non-null  object \n",
      " 20  Schedule                12582 non-null  object \n",
      " 21  Purpose.of.flight       82697 non-null  object \n",
      " 22  Air.carrier             16648 non-null  object \n",
      " 23  Total.Fatal.Injuries    77488 non-null  float64\n",
      " 24  Total.Serious.Injuries  76379 non-null  float64\n",
      " 25  Total.Minor.Injuries    76956 non-null  float64\n",
      " 26  Total.Uninjured         82977 non-null  float64\n",
      " 27  Weather.Condition       84397 non-null  object \n",
      " 28  Broad.phase.of.flight   61724 non-null  object \n",
      " 29  Report.Status           82508 non-null  object \n",
      " 30  Publication.Date        73659 non-null  object \n",
      "dtypes: float64(5), object(26)\n",
      "memory usage: 21.4+ MB\n"
     ]
    }
   ],
   "source": [
    "# Check the column names, data types and count of non-null values\n",
    "Aviation_df.info()"
   ]
  },
  {
   "cell_type": "markdown",
   "metadata": {},
   "source": [
    "# info() method output analysis\n",
    "1. The data is of class - pandas.core.frame.DataFrame\n",
    "2. There are 90,348 entries(rows) from index 0 to 90,347\n",
    "3. There are 31 columns\n",
    "4. All columns except Investgation.Type have missing values\n",
    "5. Twenty six columns have data of type 'object' and five columns have type float64"
   ]
  },
  {
   "cell_type": "code",
   "execution_count": 158,
   "metadata": {},
   "outputs": [],
   "source": [
    "# Your code here - remember to use markdown cells for comments as well!"
   ]
  },
  {
   "cell_type": "code",
   "execution_count": 159,
   "metadata": {},
   "outputs": [
    {
     "data": {
      "text/plain": [
       "Event.Id                   1459\n",
       "Investigation.Type            0\n",
       "Accident.Number            1459\n",
       "Event.Date                 1459\n",
       "Location                   1511\n",
       "Country                    1685\n",
       "Latitude                  55966\n",
       "Longitude                 55975\n",
       "Airport.Code              40099\n",
       "Airport.Name              37558\n",
       "Injury.Severity            2459\n",
       "Aircraft.damage            4653\n",
       "Aircraft.Category         58061\n",
       "Registration.Number        2776\n",
       "Make                       1522\n",
       "Model                      1551\n",
       "Amateur.Built              1561\n",
       "Number.of.Engines          7543\n",
       "Engine.Type                8536\n",
       "FAR.Description           58325\n",
       "Schedule                  77766\n",
       "Purpose.of.flight          7651\n",
       "Air.carrier               73700\n",
       "Total.Fatal.Injuries      12860\n",
       "Total.Serious.Injuries    13969\n",
       "Total.Minor.Injuries      13392\n",
       "Total.Uninjured            7371\n",
       "Weather.Condition          5951\n",
       "Broad.phase.of.flight     28624\n",
       "Report.Status              7840\n",
       "Publication.Date          16689\n",
       "dtype: int64"
      ]
     },
     "execution_count": 159,
     "metadata": {},
     "output_type": "execute_result"
    }
   ],
   "source": [
    "# check count of missing values in each column\n",
    "Aviation_df.isna().sum()"
   ]
  },
  {
   "cell_type": "markdown",
   "metadata": {},
   "source": [
    "# 4. Data cleaning\n",
    "Now that we have loaded our data and understood it by applying some dataframe methods, we need to do some data cleaning. In this section I will be focussing on:\n",
    "#\n",
    "i. Those columns which have missing values\n",
    "\n",
    "ii. Columns with invalid values\n",
    "\n",
    "iii. Check for duplicates \n",
    "\n"
   ]
  },
  {
   "cell_type": "code",
   "execution_count": 160,
   "metadata": {},
   "outputs": [],
   "source": [
    "# Define column names for better readability\n",
    "EVENT_ID  ='Event.Id'\n",
    "INVESTIGATION_TYPE='Investigation.Type'\n",
    "ACCIDENT_NUMBER='Accident.Number'\n",
    "EVENT_DATE='Event.Date'\n",
    "LOCATION='Location'\n",
    "COUNTRY='Country'\n",
    "LATITUDE='Latitude'\n",
    "LONGITUDE='Longitude'\n",
    "AIRPORT_CODE='Airport.Code'\n",
    "AIRPORT_NAME='Airport.Name'\n",
    "INJURY_SEVERITY='Injury.Severity'\n",
    "AIRCRAFT_DAMAGE='Aircraft.damage'\n",
    "AIRCRAFT_CATEGORY='Aircraft.Category'\n",
    "REGISTRATION_NUMBER='Registration.Number'\n",
    "MAKE='Make'\n",
    "MODEL='Model'\n",
    "AMATEUR_BUILT='Amateur.Built'\n",
    "NUMBER_OF_ENGINES='Number.of.Engines'\n",
    "ENGINE_TYPE='Engine.Type'\n",
    "FAR_DESCRIPTION='FAR.Description'\n",
    "SCHEDULE='Schedule'\n",
    "PURPOSE_OF_FLIGHT='Purpose.of.flight'\n",
    "AIR_CARRIER='Air.carrier'\n",
    "TOTAL_FATAL_INJURIES='Total.Fatal.Injuries'\n",
    "TOTAL_SERIOUS_INJURIES='Total.Serious.Injuries'\n",
    "TOTAL_MINOR_INJURIES='Total.Minor.Injuries'\n",
    "TOTAL_UNINJURED='Total.Uninjured'\n",
    "WEATHER_CONDITION='Weather.Condition'\n",
    "BROAD_PHASE_OF_FLIGHT='Broad.phase.of.flight'\n",
    "REPORT_STATUS='Report.Status'\n",
    "PUBLICATION_DATE='Publication.Date'\n",
    "YEAR='Year'"
   ]
  },
  {
   "cell_type": "markdown",
   "metadata": {},
   "source": [
    "# Drop Columns\n",
    "\n",
    "In the code cell below first I am going to drop the columns that have more than 25% of their data missing. These include Latitude, Longitude, Airport Code among others.\n",
    "\n",
    "Secondly I am going to drop those columns which I feel are not important for my analysis. I drop these columns for easier handling of data and clearer analysis.\n"
   ]
  },
  {
   "cell_type": "code",
   "execution_count": 161,
   "metadata": {},
   "outputs": [
    {
     "name": "stdout",
     "output_type": "stream",
     "text": [
      "Index(['Event.Id', 'Investigation.Type', 'Event.Date', 'Location', 'Country',\n",
      "       'Injury.Severity', 'Aircraft.damage', 'Make', 'Model',\n",
      "       'Number.of.Engines', 'Purpose.of.flight', 'Total.Fatal.Injuries',\n",
      "       'Total.Serious.Injuries', 'Total.Minor.Injuries', 'Total.Uninjured',\n",
      "       'Weather.Condition', 'Broad.phase.of.flight'],\n",
      "      dtype='object')\n",
      "(90348, 17)\n"
     ]
    }
   ],
   "source": [
    "# Columns  that have roughly more than 25% of their data missing\n",
    "columns_to_drop = [LATITUDE, LONGITUDE,AIRPORT_CODE, AIRPORT_NAME, AIRCRAFT_CATEGORY,FAR_DESCRIPTION,\n",
    "                   SCHEDULE, AIR_CARRIER]\n",
    "Aviation_df_clean = Aviation_df.drop(columns=columns_to_drop)\n",
    "\n",
    "#I think there are many columns which are not important for my analysis. \n",
    "\n",
    "more_columns_to_drop = [ACCIDENT_NUMBER, REGISTRATION_NUMBER, AMATEUR_BUILT, \n",
    "                   PUBLICATION_DATE,  REPORT_STATUS,ENGINE_TYPE]\n",
    "\n",
    "Aviation_df_clean = Aviation_df_clean.drop(columns=more_columns_to_drop)\n",
    "\n",
    "print(Aviation_df_clean.columns) # printing to know the number of columns remaining\n",
    "print(Aviation_df_clean.shape) #printing the shape of the new dataframe"
   ]
  },
  {
   "cell_type": "code",
   "execution_count": 162,
   "metadata": {},
   "outputs": [
    {
     "name": "stdout",
     "output_type": "stream",
     "text": [
      "Index(['Event.Id', 'Investigation.Type', 'Event.Date', 'Location', 'Country',\n",
      "       'Injury.Severity', 'Aircraft.damage', 'Make', 'Model',\n",
      "       'Number.of.Engines', 'Purpose.of.flight', 'Total.Fatal.Injuries',\n",
      "       'Total.Serious.Injuries', 'Total.Minor.Injuries', 'Total.Uninjured',\n",
      "       'Weather.Condition', 'Broad.phase.of.flight', 'Year'],\n",
      "      dtype='object')\n",
      "(41134, 18)\n"
     ]
    }
   ],
   "source": [
    "# Data cleaning and preparation \n",
    "\n",
    "# Convert 'Event.Date' to datetime format and extract year e.g 1948-10-24\n",
    "Aviation_df_clean[EVENT_DATE] = pd.to_datetime(Aviation_df_clean[EVENT_DATE], format='%Y-%m-%d')\n",
    "# Extract year from the date\n",
    "Aviation_df_clean[YEAR] = Aviation_df_clean[EVENT_DATE].dt.year\n",
    "\n",
    "# Filter for relevant years (last 20 years)\n",
    "Aviation_df_clean = Aviation_df_clean[Aviation_df_clean[YEAR] >= 2000]\n",
    "\n",
    "# print column names to check if they are correct\n",
    "print(Aviation_df_clean.columns)\n",
    "\n",
    "# Drop rows where 'Make' or 'Model' is missing (critical for analysis)\n",
    "Aviation_df_clean = Aviation_df_clean.dropna(subset=[MAKE, MODEL])\n",
    "\n",
    "\n",
    "# Fill missing numerical values (e.g., injuries) with 0\n",
    "Aviation_df_clean[TOTAL_FATAL_INJURIES] = Aviation_df_clean[TOTAL_FATAL_INJURIES].fillna(0)\n",
    "Aviation_df_clean[TOTAL_SERIOUS_INJURIES] = Aviation_df_clean[TOTAL_SERIOUS_INJURIES].fillna(0)\n",
    "Aviation_df_clean[TOTAL_MINOR_INJURIES] = Aviation_df_clean[TOTAL_MINOR_INJURIES].fillna(0)\n",
    "Aviation_df_clean[TOTAL_UNINJURED] = Aviation_df_clean[TOTAL_UNINJURED].fillna(0)\n",
    "\n",
    "# filling missing values in Broad.Phase.of.flight column with unknown\n",
    "Aviation_df_clean[BROAD_PHASE_OF_FLIGHT] = Aviation_df_clean[BROAD_PHASE_OF_FLIGHT].fillna(\"UNKNOWN\")\n",
    "\n",
    "print(Aviation_df_clean.shape)"
   ]
  },
  {
   "cell_type": "code",
   "execution_count": 163,
   "metadata": {},
   "outputs": [
    {
     "name": "stdout",
     "output_type": "stream",
     "text": [
      "             num_accidents  total_fatalities\n",
      "Model                                       \n",
      "A300                    10               0.0\n",
      "45                      10              10.0\n",
      "MD-11F                  10               0.0\n",
      "BE-23                   10               2.0\n",
      "B100                    10               7.0\n",
      "35-A33                  10               2.0\n",
      "PA-18A 150              10               0.0\n",
      "Glasair III             10               2.0\n",
      "210B                    10               5.0\n",
      "7CCM                    10               0.0\n"
     ]
    }
   ],
   "source": [
    "# aggregations\n",
    "\n",
    "# Group by aircraft model and count accidents\n",
    "accidents_by_model = Aviation_df_clean.groupby(MODEL)\n",
    "accidents_by_model =accidents_by_model.agg(\n",
    "    # count accidents and assign to new column 'num_accidents'\n",
    "    # b_min=pd.NamedAgg(column=\"B\", aggfunc=\"min\")\n",
    "    num_accidents=(EVENT_ID, 'count'),\n",
    "    total_fatalities=(TOTAL_FATAL_INJURIES, 'sum')\n",
    ")\n",
    "accidents_by_model = accidents_by_model.sort_values('num_accidents', ascending=True)\n",
    "\n",
    "# Filter models with ≥10 accidents\n",
    "filtered_models = accidents_by_model[accidents_by_model['num_accidents'] >= 10]\n",
    "\n",
    "# Top 10 safest models (fewest accidents)\n",
    "print(filtered_models.head(10))\n"
   ]
  },
  {
   "cell_type": "code",
   "execution_count": 164,
   "metadata": {},
   "outputs": [
    {
     "data": {
      "image/png": "[encoded data removed]",
      "text/plain": [
       "<Figure size 720x576 with 1 Axes>"
      ]
     },
     "metadata": {
      "needs_background": "light"
     },
     "output_type": "display_data"
    }
   ],
   "source": [
    "# Highest accident counts by model\n",
    "\n",
    "\n",
    "filtered_models.tail(10).plot(kind='barh', y='num_accidents', legend=False, figsize = (10,8))\n",
    "plt.title('Unsafe Aircraft models(Highest Accident Counts)')\n",
    "plt.xlabel('Number of Accidents')\n",
    "plt.show()"
   ]
  },
  {
   "cell_type": "code",
   "execution_count": 165,
   "metadata": {},
   "outputs": [
    {
     "data": {
      "image/png": "[encoded data removed]",
      "text/plain": [
       "<Figure size 720x576 with 1 Axes>"
      ]
     },
     "metadata": {
      "needs_background": "light"
     },
     "output_type": "display_data"
    }
   ],
   "source": [
    "# Bar Chart (Safest Models)\n",
    "# Plot top 5 safest models\n",
    "filtered_models.head(10).plot(kind='barh', y='num_accidents', legend=False, figsize = (10,8))\n",
    "plt.title('Top 5 Safest Aircraft Models (Fewest Accidents)')\n",
    "plt.xlabel('Number of Accidents')\n",
    "plt.show()"
   ]
  },
  {
   "cell_type": "code",
   "execution_count": 166,
   "metadata": {},
   "outputs": [
    {
     "data": {
      "text/plain": [
       "Text(0.5, 1.0, 'Accidents by Flight Phase')"
      ]
     },
     "execution_count": 166,
     "metadata": {},
     "output_type": "execute_result"
    },
    {
     "data": {
      "image/png": "[encoded data removed]",
      "text/plain": [
       "<Figure size 432x288 with 1 Axes>"
      ]
     },
     "metadata": {},
     "output_type": "display_data"
    }
   ],
   "source": [
    "# Group by 'Broad.phase.of.flight' (e.g., takeoff, landing)\n",
    "phase_counts = Aviation_df_clean[BROAD_PHASE_OF_FLIGHT].value_counts().head(5)\n",
    "phase_counts.plot(kind='pie', autopct='%1.1f%%')\n",
    "plt.title('Accidents by Flight Phase')"
   ]
  },
  {
   "cell_type": "markdown",
   "metadata": {},
   "source": [
    "## Accidents by Flight Phase analysis\n",
    "\n",
    "As we can see from the above pie chart most accidents occur at an unknown phase. Then it is followed by: landing, take-off, Cruise, Maneuvering in that order. From this I advise that upon acquisition of the aircraft more training will be needed on landing and take-offs to minimize accidents. "
   ]
  },
  {
   "cell_type": "code",
   "execution_count": 167,
   "metadata": {},
   "outputs": [
    {
     "name": "stdout",
     "output_type": "stream",
     "text": [
      "             num_accidents  total_fatalities\n",
      "Model                                       \n",
      "A300                    10               0.0\n",
      "A23-24                  10               1.0\n",
      "510                     10               4.0\n",
      "PIPER SPORT             10               4.0\n",
      "AA1                     10               5.0\n",
      "429                     10               8.0\n",
      "AT 802                  10               0.0\n",
      "AA-1C                   10               6.0\n",
      "206L                    10               7.0\n",
      "PA-60-601P              10              11.0\n"
     ]
    }
   ],
   "source": [
    "#  Filter Out Rare Aircraft Models\n",
    "models_with_significant_data = accidents_by_model[accidents_by_model['num_accidents'] >= 10]\n",
    "# Sort by lowest accident count (safest first)\n",
    "safest_models = models_with_significant_data.sort_values('num_accidents', ascending=True)\n",
    "print(safest_models.head(10))"
   ]
  },
  {
   "cell_type": "code",
   "execution_count": 168,
   "metadata": {},
   "outputs": [
    {
     "data": {
      "text/plain": [
       "Non-Fatal    30424\n",
       "Fatal         5248\n",
       "Fatal(1)      1644\n",
       "Fatal(2)      1002\n",
       "Incident       638\n",
       "             ...  \n",
       "Fatal(15)        1\n",
       "Fatal(96)        1\n",
       "Fatal(88)        1\n",
       "Fatal(45)        1\n",
       "Fatal(26)        1\n",
       "Name: Injury.Severity, Length: 67, dtype: int64"
      ]
     },
     "execution_count": 168,
     "metadata": {},
     "output_type": "execute_result"
    }
   ],
   "source": [
    "Aviation_df_clean['Injury.Severity'].value_counts()"
   ]
  },
  {
   "cell_type": "code",
   "execution_count": 169,
   "metadata": {},
   "outputs": [
    {
     "data": {
      "text/plain": [
       "Event.Id                          object\n",
       "Investigation.Type                object\n",
       "Event.Date                datetime64[ns]\n",
       "Location                          object\n",
       "Country                           object\n",
       "Injury.Severity                   object\n",
       "Aircraft.damage                   object\n",
       "Make                              object\n",
       "Model                             object\n",
       "Number.of.Engines                float64\n",
       "Purpose.of.flight                 object\n",
       "Total.Fatal.Injuries             float64\n",
       "Total.Serious.Injuries           float64\n",
       "Total.Minor.Injuries             float64\n",
       "Total.Uninjured                  float64\n",
       "Weather.Condition                 object\n",
       "Broad.phase.of.flight             object\n",
       "Year                             float64\n",
       "dtype: object"
      ]
     },
     "execution_count": 169,
     "metadata": {},
     "output_type": "execute_result"
    }
   ],
   "source": [
    "Aviation_df_clean.dtypes"
   ]
  },
  {
   "cell_type": "code",
   "execution_count": 170,
   "metadata": {},
   "outputs": [
    {
     "data": {
      "text/plain": [
       "<bound method Series.sort_values of Make\n",
       "107.5 Flying Corporation    1.0\n",
       "1200                        0.0\n",
       "177MF LLC                   0.0\n",
       "1977 Colfer-chan            0.0\n",
       "2000 Mccoy                  1.0\n",
       "                           ... \n",
       "Zodiac                      1.0\n",
       "Zorn                        1.0\n",
       "de Havilland                2.0\n",
       "drone                       0.0\n",
       "unknown                     0.0\n",
       "Name: Total.Fatal.Injuries, Length: 5809, dtype: float64>"
      ]
     },
     "execution_count": 170,
     "metadata": {},
     "output_type": "execute_result"
    }
   ],
   "source": [
    "Aviation_df_clean.groupby('Make')['Total.Fatal.Injuries'].sum().sort_values"
   ]
  },
  {
   "cell_type": "code",
   "execution_count": null,
   "metadata": {},
   "outputs": [],
   "source": []
  },
  {
   "cell_type": "code",
   "execution_count": null,
   "metadata": {},
   "outputs": [],
   "source": []
  },
  {
   "cell_type": "code",
   "execution_count": 171,
   "metadata": {},
   "outputs": [
    {
     "name": "stdout",
     "output_type": "stream",
     "text": [
      "            num_accidents  total_fatalities\n",
      "Model                                      \n",
      "(EX) RV-6               1               2.0\n",
      "A320 233                1               0.0\n",
      "A320-200                1               0.0\n",
      "A320-231                1               0.0\n",
      "A320-251N               1               0.0\n",
      "A320-271N               1               0.0\n",
      "A320-321                1               0.0\n",
      "A320-322                1               0.0\n",
      "A321 - 211              1               0.0\n",
      "A321-211                1               0.0\n"
     ]
    }
   ],
   "source": [
    "#  Filter Out Rare Aircraft Models\n",
    "models_with_significant_data = accidents_by_model[accidents_by_model['num_accidents'] <= 10]\n",
    "# Sort by lowest accident count (safest first)\n",
    "safest_models = models_with_significant_data.sort_values('num_accidents', ascending=True)\n",
    "print(safest_models.head(10))"
   ]
  },
  {
   "cell_type": "code",
   "execution_count": 172,
   "metadata": {},
   "outputs": [
    {
     "name": "stdout",
     "output_type": "stream",
     "text": [
      "                               num_accidents  total_fatalities\n",
      "Make                                                          \n",
      "MOONEY AIRPLANE CO INC                    10               1.0\n",
      "Buckeye                                   10               2.0\n",
      "Cirrus Design Corporation                 10              11.0\n",
      "Aircraft Mfg & Dev. Co. (amd)             10               2.0\n",
      "SIAI-MARCHETTI                            10               4.0\n",
      "LEARJET INC                               10               9.0\n",
      "AERO VODOCHODY                            10               9.0\n",
      "Smith, Ted Aerostar                       10               3.0\n",
      "AEROPRO CZ                                10               2.0\n",
      "GARLICK                                   10               1.0\n"
     ]
    }
   ],
   "source": [
    "# aggregations\n",
    "\n",
    "# Group by aircraft model and count accidents\n",
    "accidents_by_make = Aviation_df_clean.groupby(MAKE)\n",
    "accidents_by_make =accidents_by_make.agg(\n",
    "       num_accidents=(EVENT_ID, 'count'),\n",
    "    total_fatalities=(TOTAL_FATAL_INJURIES, 'sum')\n",
    ")\n",
    "accidents_by_make = accidents_by_make.sort_values('num_accidents', ascending=True)\n",
    "\n",
    "# Filter models with ≥10 accidents\n",
    "filtered_make = accidents_by_make[accidents_by_make['num_accidents'] >= 10]\n",
    "\n",
    "# Top 10 safest models (fewest accidents)\n",
    "print(filtered_make.head(10))"
   ]
  },
  {
   "cell_type": "code",
   "execution_count": 174,
   "metadata": {},
   "outputs": [
    {
     "data": {
      "text/plain": [
       "<pandas.core.groupby.generic.SeriesGroupBy object at 0x000001E8D747A1C0>"
      ]
     },
     "execution_count": 174,
     "metadata": {},
     "output_type": "execute_result"
    }
   ],
   "source": [
    "Aviation_df_clean.groupby('Make') ['Model']"
   ]
  }
 ],
 "metadata": {
  "kernelspec": {
   "display_name": "learn-env",
   "language": "python",
   "name": "python3"
  },
  "language_info": {
   "codemirror_mode": {
    "name": "ipython",
    "version": 3
   },
   "file_extension": ".py",
   "mimetype": "text/x-python",
   "name": "python",
   "nbconvert_exporter": "python",
   "pygments_lexer": "ipython3",
   "version": "3.8.5"
  }
 },
 "nbformat": 4,
 "nbformat_minor": 2
}
