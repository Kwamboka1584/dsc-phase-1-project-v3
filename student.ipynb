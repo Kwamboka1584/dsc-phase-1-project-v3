{
 "cells": [
  {
   "cell_type": "markdown",
   "metadata": {},
   "source": [
    "## Final Project Submission\n",
    "\n",
    "Please fill out:\n",
    "* Student name: Pacificah Asamba\n",
    "* Student pace: self paced / part time / full time - part time\n",
    "* Scheduled project review date/time: 29/04/2025 \n",
    "* Instructor name: Madam Mwikali\n",
    "* Blog post URL:\n"
   ]
  },
  {
   "cell_type": "markdown",
   "metadata": {},
   "source": [
    "## PROJECT TITLE: ASSESSING POTENTIAL RISKS OF AIRCRAFT FOR FLEET ACQUISITION"
   ]
  },
  {
   "cell_type": "markdown",
   "metadata": {},
   "source": [
    "# 1. Import the relevant libraries "
   ]
  },
  {
   "cell_type": "code",
   "execution_count": 81,
   "metadata": {},
   "outputs": [],
   "source": [
    "# importing the libraries to be used in the notebook\n",
    "import pandas as pd\n",
    "import matplotlib.pyplot as plt\n",
    "import seaborn as sns\n",
    "import warnings \n",
    "warnings.filterwarnings('ignore')\n",
    "%matplotlib inline"
   ]
  },
  {
   "cell_type": "markdown",
   "metadata": {},
   "source": [
    "## 2. Load the Data into a DataFrame Called `Aviation_df`\n",
    "\n",
    "The file path is `data/Aviation_Data.csv`. Use pandas to read in the data from this CSV file and create a dataframe named `Aviation_df`."
   ]
  },
  {
   "cell_type": "code",
   "execution_count": 82,
   "metadata": {},
   "outputs": [
    {
     "data": {
      "text/html": [
       "<div>\n",
       "<style scoped>\n",
       "    .dataframe tbody tr th:only-of-type {\n",
       "        vertical-align: middle;\n",
       "    }\n",
       "\n",
       "    .dataframe tbody tr th {\n",
       "        vertical-align: top;\n",
       "    }\n",
       "\n",
       "    .dataframe thead th {\n",
       "        text-align: right;\n",
       "    }\n",
       "</style>\n",
       "<table border=\"1\" class=\"dataframe\">\n",
       "  <thead>\n",
       "    <tr style=\"text-align: right;\">\n",
       "      <th></th>\n",
       "      <th>Event.Id</th>\n",
       "      <th>Investigation.Type</th>\n",
       "      <th>Accident.Number</th>\n",
       "      <th>Event.Date</th>\n",
       "      <th>Location</th>\n",
       "      <th>Country</th>\n",
       "      <th>Latitude</th>\n",
       "      <th>Longitude</th>\n",
       "      <th>Airport.Code</th>\n",
       "      <th>Airport.Name</th>\n",
       "      <th>...</th>\n",
       "      <th>Purpose.of.flight</th>\n",
       "      <th>Air.carrier</th>\n",
       "      <th>Total.Fatal.Injuries</th>\n",
       "      <th>Total.Serious.Injuries</th>\n",
       "      <th>Total.Minor.Injuries</th>\n",
       "      <th>Total.Uninjured</th>\n",
       "      <th>Weather.Condition</th>\n",
       "      <th>Broad.phase.of.flight</th>\n",
       "      <th>Report.Status</th>\n",
       "      <th>Publication.Date</th>\n",
       "    </tr>\n",
       "  </thead>\n",
       "  <tbody>\n",
       "    <tr>\n",
       "      <th>0</th>\n",
       "      <td>20001218X45444</td>\n",
       "      <td>Accident</td>\n",
       "      <td>SEA87LA080</td>\n",
       "      <td>1948-10-24</td>\n",
       "      <td>MOOSE CREEK, ID</td>\n",
       "      <td>United States</td>\n",
       "      <td>NaN</td>\n",
       "      <td>NaN</td>\n",
       "      <td>NaN</td>\n",
       "      <td>NaN</td>\n",
       "      <td>...</td>\n",
       "      <td>Personal</td>\n",
       "      <td>NaN</td>\n",
       "      <td>2.0</td>\n",
       "      <td>0.0</td>\n",
       "      <td>0.0</td>\n",
       "      <td>0.0</td>\n",
       "      <td>UNK</td>\n",
       "      <td>Cruise</td>\n",
       "      <td>Probable Cause</td>\n",
       "      <td>NaN</td>\n",
       "    </tr>\n",
       "    <tr>\n",
       "      <th>1</th>\n",
       "      <td>20001218X45447</td>\n",
       "      <td>Accident</td>\n",
       "      <td>LAX94LA336</td>\n",
       "      <td>1962-07-19</td>\n",
       "      <td>BRIDGEPORT, CA</td>\n",
       "      <td>United States</td>\n",
       "      <td>NaN</td>\n",
       "      <td>NaN</td>\n",
       "      <td>NaN</td>\n",
       "      <td>NaN</td>\n",
       "      <td>...</td>\n",
       "      <td>Personal</td>\n",
       "      <td>NaN</td>\n",
       "      <td>4.0</td>\n",
       "      <td>0.0</td>\n",
       "      <td>0.0</td>\n",
       "      <td>0.0</td>\n",
       "      <td>UNK</td>\n",
       "      <td>Unknown</td>\n",
       "      <td>Probable Cause</td>\n",
       "      <td>19-09-1996</td>\n",
       "    </tr>\n",
       "    <tr>\n",
       "      <th>2</th>\n",
       "      <td>20061025X01555</td>\n",
       "      <td>Accident</td>\n",
       "      <td>NYC07LA005</td>\n",
       "      <td>1974-08-30</td>\n",
       "      <td>Saltville, VA</td>\n",
       "      <td>United States</td>\n",
       "      <td>36.9222</td>\n",
       "      <td>-81.8781</td>\n",
       "      <td>NaN</td>\n",
       "      <td>NaN</td>\n",
       "      <td>...</td>\n",
       "      <td>Personal</td>\n",
       "      <td>NaN</td>\n",
       "      <td>3.0</td>\n",
       "      <td>NaN</td>\n",
       "      <td>NaN</td>\n",
       "      <td>NaN</td>\n",
       "      <td>IMC</td>\n",
       "      <td>Cruise</td>\n",
       "      <td>Probable Cause</td>\n",
       "      <td>26-02-2007</td>\n",
       "    </tr>\n",
       "    <tr>\n",
       "      <th>3</th>\n",
       "      <td>20001218X45448</td>\n",
       "      <td>Accident</td>\n",
       "      <td>LAX96LA321</td>\n",
       "      <td>1977-06-19</td>\n",
       "      <td>EUREKA, CA</td>\n",
       "      <td>United States</td>\n",
       "      <td>NaN</td>\n",
       "      <td>NaN</td>\n",
       "      <td>NaN</td>\n",
       "      <td>NaN</td>\n",
       "      <td>...</td>\n",
       "      <td>Personal</td>\n",
       "      <td>NaN</td>\n",
       "      <td>2.0</td>\n",
       "      <td>0.0</td>\n",
       "      <td>0.0</td>\n",
       "      <td>0.0</td>\n",
       "      <td>IMC</td>\n",
       "      <td>Cruise</td>\n",
       "      <td>Probable Cause</td>\n",
       "      <td>12-09-2000</td>\n",
       "    </tr>\n",
       "    <tr>\n",
       "      <th>4</th>\n",
       "      <td>20041105X01764</td>\n",
       "      <td>Accident</td>\n",
       "      <td>CHI79FA064</td>\n",
       "      <td>1979-08-02</td>\n",
       "      <td>Canton, OH</td>\n",
       "      <td>United States</td>\n",
       "      <td>NaN</td>\n",
       "      <td>NaN</td>\n",
       "      <td>NaN</td>\n",
       "      <td>NaN</td>\n",
       "      <td>...</td>\n",
       "      <td>Personal</td>\n",
       "      <td>NaN</td>\n",
       "      <td>1.0</td>\n",
       "      <td>2.0</td>\n",
       "      <td>NaN</td>\n",
       "      <td>0.0</td>\n",
       "      <td>VMC</td>\n",
       "      <td>Approach</td>\n",
       "      <td>Probable Cause</td>\n",
       "      <td>16-04-1980</td>\n",
       "    </tr>\n",
       "  </tbody>\n",
       "</table>\n",
       "<p>5 rows × 31 columns</p>\n",
       "</div>"
      ],
      "text/plain": [
       "         Event.Id Investigation.Type Accident.Number  Event.Date  \\\n",
       "0  20001218X45444           Accident      SEA87LA080  1948-10-24   \n",
       "1  20001218X45447           Accident      LAX94LA336  1962-07-19   \n",
       "2  20061025X01555           Accident      NYC07LA005  1974-08-30   \n",
       "3  20001218X45448           Accident      LAX96LA321  1977-06-19   \n",
       "4  20041105X01764           Accident      CHI79FA064  1979-08-02   \n",
       "\n",
       "          Location        Country Latitude Longitude Airport.Code  \\\n",
       "0  MOOSE CREEK, ID  United States      NaN       NaN          NaN   \n",
       "1   BRIDGEPORT, CA  United States      NaN       NaN          NaN   \n",
       "2    Saltville, VA  United States  36.9222  -81.8781          NaN   \n",
       "3       EUREKA, CA  United States      NaN       NaN          NaN   \n",
       "4       Canton, OH  United States      NaN       NaN          NaN   \n",
       "\n",
       "  Airport.Name  ... Purpose.of.flight Air.carrier Total.Fatal.Injuries  \\\n",
       "0          NaN  ...          Personal         NaN                  2.0   \n",
       "1          NaN  ...          Personal         NaN                  4.0   \n",
       "2          NaN  ...          Personal         NaN                  3.0   \n",
       "3          NaN  ...          Personal         NaN                  2.0   \n",
       "4          NaN  ...          Personal         NaN                  1.0   \n",
       "\n",
       "  Total.Serious.Injuries Total.Minor.Injuries Total.Uninjured  \\\n",
       "0                    0.0                  0.0             0.0   \n",
       "1                    0.0                  0.0             0.0   \n",
       "2                    NaN                  NaN             NaN   \n",
       "3                    0.0                  0.0             0.0   \n",
       "4                    2.0                  NaN             0.0   \n",
       "\n",
       "  Weather.Condition  Broad.phase.of.flight   Report.Status Publication.Date  \n",
       "0               UNK                 Cruise  Probable Cause              NaN  \n",
       "1               UNK                Unknown  Probable Cause       19-09-1996  \n",
       "2               IMC                 Cruise  Probable Cause       26-02-2007  \n",
       "3               IMC                 Cruise  Probable Cause       12-09-2000  \n",
       "4               VMC               Approach  Probable Cause       16-04-1980  \n",
       "\n",
       "[5 rows x 31 columns]"
      ]
     },
     "execution_count": 82,
     "metadata": {},
     "output_type": "execute_result"
    }
   ],
   "source": [
    "#load the Aviation data csv file using pandas to a dataframe called Aviation_df\n",
    "\n",
    "Aviation_df = pd.read_csv('data/Aviation_Data.csv')\n",
    "Aviation_df.head()   #run to view a sample of how our data looks like by printing the first five rows."
   ]
  },
  {
   "cell_type": "markdown",
   "metadata": {},
   "source": [
    "## 3. Data understanding\n",
    "\n",
    "#### Now that we have read our data to a dataframe, we are going to get to understand our data. This is done by using various methods as below:\n",
    "\n",
    "* 1. First we need to know the shape of the data by using the .shape attribute\n",
    "* 2. Next we will check the various datatypes we have, the number of rows and columns and which columns have non-null values using the .info() method\n",
    "* 3. Use the .columns method to know the names of the columns"
   ]
  },
  {
   "cell_type": "code",
   "execution_count": 83,
   "metadata": {},
   "outputs": [
    {
     "data": {
      "text/plain": [
       "(90348, 31)"
      ]
     },
     "execution_count": 83,
     "metadata": {},
     "output_type": "execute_result"
    }
   ],
   "source": [
    "# To know the number of rows and columns, do a .shape\n",
    "Aviation_df.shape"
   ]
  },
  {
   "cell_type": "markdown",
   "metadata": {},
   "source": [
    "* From the above method we see that the dataset has 90,348 rows and 31 columns"
   ]
  },
  {
   "cell_type": "code",
   "execution_count": 84,
   "metadata": {},
   "outputs": [
    {
     "data": {
      "text/plain": [
       "Index(['Event.Id', 'Investigation.Type', 'Accident.Number', 'Event.Date',\n",
       "       'Location', 'Country', 'Latitude', 'Longitude', 'Airport.Code',\n",
       "       'Airport.Name', 'Injury.Severity', 'Aircraft.damage',\n",
       "       'Aircraft.Category', 'Registration.Number', 'Make', 'Model',\n",
       "       'Amateur.Built', 'Number.of.Engines', 'Engine.Type', 'FAR.Description',\n",
       "       'Schedule', 'Purpose.of.flight', 'Air.carrier', 'Total.Fatal.Injuries',\n",
       "       'Total.Serious.Injuries', 'Total.Minor.Injuries', 'Total.Uninjured',\n",
       "       'Weather.Condition', 'Broad.phase.of.flight', 'Report.Status',\n",
       "       'Publication.Date'],\n",
       "      dtype='object')"
      ]
     },
     "execution_count": 84,
     "metadata": {},
     "output_type": "execute_result"
    }
   ],
   "source": [
    "#check the names of the columns\n",
    "Aviation_df.columns"
   ]
  },
  {
   "cell_type": "code",
   "execution_count": 85,
   "metadata": {},
   "outputs": [
    {
     "name": "stdout",
     "output_type": "stream",
     "text": [
      "<class 'pandas.core.frame.DataFrame'>\n",
      "RangeIndex: 90348 entries, 0 to 90347\n",
      "Data columns (total 31 columns):\n",
      " #   Column                  Non-Null Count  Dtype  \n",
      "---  ------                  --------------  -----  \n",
      " 0   Event.Id                88889 non-null  object \n",
      " 1   Investigation.Type      90348 non-null  object \n",
      " 2   Accident.Number         88889 non-null  object \n",
      " 3   Event.Date              88889 non-null  object \n",
      " 4   Location                88837 non-null  object \n",
      " 5   Country                 88663 non-null  object \n",
      " 6   Latitude                34382 non-null  object \n",
      " 7   Longitude               34373 non-null  object \n",
      " 8   Airport.Code            50249 non-null  object \n",
      " 9   Airport.Name            52790 non-null  object \n",
      " 10  Injury.Severity         87889 non-null  object \n",
      " 11  Aircraft.damage         85695 non-null  object \n",
      " 12  Aircraft.Category       32287 non-null  object \n",
      " 13  Registration.Number     87572 non-null  object \n",
      " 14  Make                    88826 non-null  object \n",
      " 15  Model                   88797 non-null  object \n",
      " 16  Amateur.Built           88787 non-null  object \n",
      " 17  Number.of.Engines       82805 non-null  float64\n",
      " 18  Engine.Type             81812 non-null  object \n",
      " 19  FAR.Description         32023 non-null  object \n",
      " 20  Schedule                12582 non-null  object \n",
      " 21  Purpose.of.flight       82697 non-null  object \n",
      " 22  Air.carrier             16648 non-null  object \n",
      " 23  Total.Fatal.Injuries    77488 non-null  float64\n",
      " 24  Total.Serious.Injuries  76379 non-null  float64\n",
      " 25  Total.Minor.Injuries    76956 non-null  float64\n",
      " 26  Total.Uninjured         82977 non-null  float64\n",
      " 27  Weather.Condition       84397 non-null  object \n",
      " 28  Broad.phase.of.flight   61724 non-null  object \n",
      " 29  Report.Status           82508 non-null  object \n",
      " 30  Publication.Date        73659 non-null  object \n",
      "dtypes: float64(5), object(26)\n",
      "memory usage: 21.4+ MB\n"
     ]
    }
   ],
   "source": [
    "# Check the column names, data types and count of non-null values\n",
    "Aviation_df.info()"
   ]
  },
  {
   "cell_type": "markdown",
   "metadata": {},
   "source": [
    "## info() method output analysis\n",
    "1. The data is of class - pandas.core.frame.DataFrame since we read it from a csv file to a dataframe \n",
    "2. There are 90,348 entries(rows) from index 0 to 90,347\n",
    "3. There are 31 columns\n",
    "4. All columns except Investigation.Type have missing values\n",
    "5. Twenty six columns have data of type 'object' and five columns have type float64"
   ]
  },
  {
   "cell_type": "code",
   "execution_count": 86,
   "metadata": {},
   "outputs": [
    {
     "data": {
      "text/plain": [
       "Event.Id                   1459\n",
       "Investigation.Type            0\n",
       "Accident.Number            1459\n",
       "Event.Date                 1459\n",
       "Location                   1511\n",
       "Country                    1685\n",
       "Latitude                  55966\n",
       "Longitude                 55975\n",
       "Airport.Code              40099\n",
       "Airport.Name              37558\n",
       "Injury.Severity            2459\n",
       "Aircraft.damage            4653\n",
       "Aircraft.Category         58061\n",
       "Registration.Number        2776\n",
       "Make                       1522\n",
       "Model                      1551\n",
       "Amateur.Built              1561\n",
       "Number.of.Engines          7543\n",
       "Engine.Type                8536\n",
       "FAR.Description           58325\n",
       "Schedule                  77766\n",
       "Purpose.of.flight          7651\n",
       "Air.carrier               73700\n",
       "Total.Fatal.Injuries      12860\n",
       "Total.Serious.Injuries    13969\n",
       "Total.Minor.Injuries      13392\n",
       "Total.Uninjured            7371\n",
       "Weather.Condition          5951\n",
       "Broad.phase.of.flight     28624\n",
       "Report.Status              7840\n",
       "Publication.Date          16689\n",
       "dtype: int64"
      ]
     },
     "execution_count": 86,
     "metadata": {},
     "output_type": "execute_result"
    }
   ],
   "source": [
    "# check count of missing values in each column\n",
    "Aviation_df.isna().sum()"
   ]
  },
  {
   "cell_type": "markdown",
   "metadata": {},
   "source": [
    "### Aviation_df.isna().sum() notes\n",
    "When we use the .isna() method it gives a dataframe with the boolean values, getting we get a True value for instances where we have null values and False otherwise. Adding the .sum() to the same method does summation of the null values or missing values against each column.\n",
    "\n",
    "From above we can see that only Investigation.Type has no missing values. There are other columns with substantially large number of missing values. We are going to deal with these in the subsequent sections below."
   ]
  },
  {
   "cell_type": "code",
   "execution_count": 87,
   "metadata": {},
   "outputs": [],
   "source": [
    "# Define column names for better readability. This is creating variable names and assigning them to the column names. \n",
    "# I will be referrencing the columns using the variable names.\n",
    "\n",
    "EVENT_ID  ='Event.Id'\n",
    "INVESTIGATION_TYPE='Investigation.Type'\n",
    "ACCIDENT_NUMBER='Accident.Number'\n",
    "EVENT_DATE='Event.Date'\n",
    "LOCATION='Location'\n",
    "COUNTRY='Country'\n",
    "LATITUDE='Latitude'\n",
    "LONGITUDE='Longitude'\n",
    "AIRPORT_CODE='Airport.Code'\n",
    "AIRPORT_NAME='Airport.Name'\n",
    "INJURY_SEVERITY='Injury.Severity'\n",
    "AIRCRAFT_DAMAGE='Aircraft.damage'\n",
    "AIRCRAFT_CATEGORY='Aircraft.Category'\n",
    "REGISTRATION_NUMBER='Registration.Number'\n",
    "MAKE='Make'\n",
    "MODEL='Model'\n",
    "AMATEUR_BUILT='Amateur.Built'\n",
    "NUMBER_OF_ENGINES='Number.of.Engines'\n",
    "ENGINE_TYPE='Engine.Type'\n",
    "FAR_DESCRIPTION='FAR.Description'\n",
    "SCHEDULE='Schedule'\n",
    "PURPOSE_OF_FLIGHT='Purpose.of.flight'\n",
    "AIR_CARRIER='Air.carrier'\n",
    "TOTAL_FATAL_INJURIES='Total.Fatal.Injuries'\n",
    "TOTAL_SERIOUS_INJURIES='Total.Serious.Injuries'\n",
    "TOTAL_MINOR_INJURIES='Total.Minor.Injuries'\n",
    "TOTAL_UNINJURED='Total.Uninjured'\n",
    "WEATHER_CONDITION='Weather.Condition'\n",
    "BROAD_PHASE_OF_FLIGHT='Broad.phase.of.flight'\n",
    "REPORT_STATUS='Report.Status'\n",
    "PUBLICATION_DATE='Publication.Date'\n",
    "YEAR='Year'"
   ]
  },
  {
   "cell_type": "markdown",
   "metadata": {},
   "source": [
    "# 4. Data cleaning\n",
    "Now that we have loaded our data and understood it by applying some dataframe methods, we need to do some data cleaning. In this section I will be focussing on:\n",
    "#\n",
    "i. Those columns which have missing values. Will be dealt with either by dropping them completely or imputing with some value to those columns necessary for my analysis.\n",
    "\n",
    "ii. Columns with incorrect dtypes e.g Event.Date which is of type object will be changed to datetime\n",
    "\n",
    "iii. I will check for whitespaces and some values which are the same but appear to be two different values because of upper or lower case. "
   ]
  },
  {
   "cell_type": "markdown",
   "metadata": {},
   "source": [
    "## i. Drop Columns\n",
    "\n",
    "In the code cell below first I am going to drop the columns that have roughly more than 40% of their data missing. These include Latitude, Longitude, Airport.Code among others.\n",
    "\n",
    "Secondly I am going to drop those columns which I feel are not important for my analysis. I drop these columns for easier handling of data and clearer analysis.\n"
   ]
  },
  {
   "cell_type": "code",
   "execution_count": 88,
   "metadata": {},
   "outputs": [
    {
     "name": "stdout",
     "output_type": "stream",
     "text": [
      "Index(['Event.Id', 'Investigation.Type', 'Event.Date', 'Location', 'Country',\n",
      "       'Injury.Severity', 'Aircraft.damage', 'Make', 'Model',\n",
      "       'Number.of.Engines', 'Purpose.of.flight', 'Total.Fatal.Injuries',\n",
      "       'Total.Serious.Injuries', 'Total.Minor.Injuries', 'Total.Uninjured',\n",
      "       'Weather.Condition', 'Broad.phase.of.flight'],\n",
      "      dtype='object')\n",
      "(90348, 17)\n"
     ]
    }
   ],
   "source": [
    "# Identifying columns that have roughly more than 40% of their data missing and assigning them to the \n",
    "# variable columns_to_drop\n",
    "\n",
    "columns_to_drop = [LATITUDE, LONGITUDE,AIRPORT_CODE, AIRPORT_NAME, AIRCRAFT_CATEGORY,FAR_DESCRIPTION,\n",
    "                   SCHEDULE, AIR_CARRIER]\n",
    "\n",
    "#dropping the columns\n",
    "Aviation_df_clean = Aviation_df.drop(columns=columns_to_drop)\n",
    "\n",
    "#I think there are many columns which are not important for my analysis assigned to variable more_columns_to_drop \n",
    "\n",
    "more_columns_to_drop = [ACCIDENT_NUMBER, REGISTRATION_NUMBER, AMATEUR_BUILT, \n",
    "                   PUBLICATION_DATE,  REPORT_STATUS,ENGINE_TYPE]\n",
    "\n",
    "#dropping the cooumns\n",
    "Aviation_df_clean = Aviation_df_clean.drop(columns=more_columns_to_drop)\n",
    "\n",
    "print(Aviation_df_clean.columns) # printing to know the number of columns remaining\n",
    "print(Aviation_df_clean.shape)   #printing the shape of the new dataframe"
   ]
  },
  {
   "cell_type": "markdown",
   "metadata": {},
   "source": []
  },
  {
   "cell_type": "code",
   "execution_count": 89,
   "metadata": {},
   "outputs": [
    {
     "name": "stdout",
     "output_type": "stream",
     "text": [
      "Index(['Event.Id', 'Investigation.Type', 'Event.Date', 'Location', 'Country',\n",
      "       'Injury.Severity', 'Aircraft.damage', 'Make', 'Model',\n",
      "       'Number.of.Engines', 'Purpose.of.flight', 'Total.Fatal.Injuries',\n",
      "       'Total.Serious.Injuries', 'Total.Minor.Injuries', 'Total.Uninjured',\n",
      "       'Weather.Condition', 'Broad.phase.of.flight', 'Year'],\n",
      "      dtype='object')\n",
      "(41134, 18)\n"
     ]
    }
   ],
   "source": [
    "# Data cleaning and preparation \n",
    "\n",
    "# Convert 'Event.Date' to datetime format and extract year e.g 1948-10-24\n",
    "Aviation_df_clean[EVENT_DATE] = pd.to_datetime(Aviation_df_clean[EVENT_DATE], format='%Y-%m-%d')\n",
    "\n",
    "# Create a new column YEAR and Extract year from the Event date\n",
    "Aviation_df_clean[YEAR] = Aviation_df_clean[EVENT_DATE].dt.year  #this creates a new column YEAR\n",
    "\n",
    "# Filter for relevant years (>= 2000)\n",
    "Aviation_df_clean = Aviation_df_clean[Aviation_df_clean[YEAR] >= 2000]\n",
    "\n",
    "# print column names to check if they are correct\n",
    "print(Aviation_df_clean.columns)\n",
    "\n",
    "# Drop rows where 'Make' or 'Model' is missing (critical columns for analysis)\n",
    "Aviation_df_clean = Aviation_df_clean.dropna(subset=[MAKE, MODEL])\n",
    "\n",
    "\n",
    "# Fill missing numerical values (e.g., injuries) with 0\n",
    "Aviation_df_clean[TOTAL_FATAL_INJURIES] = Aviation_df_clean[TOTAL_FATAL_INJURIES].fillna(0)\n",
    "Aviation_df_clean[TOTAL_SERIOUS_INJURIES] = Aviation_df_clean[TOTAL_SERIOUS_INJURIES].fillna(0)\n",
    "Aviation_df_clean[TOTAL_MINOR_INJURIES] = Aviation_df_clean[TOTAL_MINOR_INJURIES].fillna(0)\n",
    "Aviation_df_clean[TOTAL_UNINJURED] = Aviation_df_clean[TOTAL_UNINJURED].fillna(0)\n",
    "\n",
    "# filling missing values in Broad.Phase.of.flight column with unknown\n",
    "Aviation_df_clean[BROAD_PHASE_OF_FLIGHT] = Aviation_df_clean[BROAD_PHASE_OF_FLIGHT].fillna(\"UNKNOWN\")\n",
    "\n",
    "#\n",
    "Aviation_df_clean[MAKE] = Aviation_df_clean[MAKE].str.upper().str.strip()\n",
    "Aviation_df_clean[MODEL] = Aviation_df_clean[MODEL].str.upper().str.strip()\n",
    "\n",
    "print(Aviation_df_clean.shape)"
   ]
  },
  {
   "cell_type": "code",
   "execution_count": 90,
   "metadata": {},
   "outputs": [],
   "source": [
    "# Export cleaned version to Tableau\n",
    "\n",
    "Aviation_df_clean.to_csv('Cleaned_csv', index = False)"
   ]
  },
  {
   "cell_type": "code",
   "execution_count": 91,
   "metadata": {},
   "outputs": [
    {
     "data": {
      "text/plain": [
       "Event.Id                     0\n",
       "Investigation.Type           0\n",
       "Event.Date                   0\n",
       "Location                    16\n",
       "Country                     15\n",
       "Injury.Severity            979\n",
       "Aircraft.damage           2047\n",
       "Make                         0\n",
       "Model                        0\n",
       "Number.of.Engines         4889\n",
       "Purpose.of.flight         6038\n",
       "Total.Fatal.Injuries         0\n",
       "Total.Serious.Injuries       0\n",
       "Total.Minor.Injuries         0\n",
       "Total.Uninjured              0\n",
       "Weather.Condition         4414\n",
       "Broad.phase.of.flight        0\n",
       "Year                         0\n",
       "dtype: int64"
      ]
     },
     "execution_count": 91,
     "metadata": {},
     "output_type": "execute_result"
    }
   ],
   "source": [
    "#confirm the null values in the cleaned dataframe\n",
    "Aviation_df_clean.isna().sum()"
   ]
  },
  {
   "cell_type": "code",
   "execution_count": 92,
   "metadata": {},
   "outputs": [
    {
     "name": "stdout",
     "output_type": "stream",
     "text": [
      "               num_accidents  total_fatalities\n",
      "Model                                         \n",
      "(EX) RV-6                  1               2.0\n",
      "LA4 - 200                  1               2.0\n",
      "LA250                      1               0.0\n",
      "LA-250                     1               0.0\n",
      "LA 4 200                   1               0.0\n",
      "LA 4                       1               0.0\n",
      "LA 1                       1               0.0\n",
      "L60                        1               0.0\n",
      "L382G (C-130)              1               0.0\n",
      "LA4-270T                   1               0.0\n"
     ]
    }
   ],
   "source": [
    "# aggregations\n",
    "\n",
    "# Group by aircraft model and count accidents\n",
    "\n",
    "accidents_by_model = Aviation_df_clean.groupby(MODEL)\n",
    "accidents_by_model =accidents_by_model.agg(\n",
    "    # count accidents and assign to new column 'num_accidents'\n",
    "  \n",
    "    num_accidents=(EVENT_ID, 'count'),\n",
    "    total_fatalities=(TOTAL_FATAL_INJURIES, 'sum')\n",
    ")\n",
    "accidents_by_model = accidents_by_model.sort_values('num_accidents', ascending=True)\n",
    "\n",
    "# Filter models with ≥10 accidents\n",
    "filtered_models = accidents_by_model[accidents_by_model['num_accidents'] >= 0]\n",
    "\n",
    "# Top 10 safest models (fewest accidents)\n",
    "print(filtered_models.head(10))\n"
   ]
  },
  {
   "cell_type": "code",
   "execution_count": 93,
   "metadata": {},
   "outputs": [],
   "source": [
    "filtered_models.to_csv('FilteredData',index=False)"
   ]
  },
  {
   "cell_type": "code",
   "execution_count": 94,
   "metadata": {},
   "outputs": [
    {
     "data": {
      "image/png": "[encoded data removed]",
      "text/plain": [
       "<Figure size 720x576 with 1 Axes>"
      ]
     },
     "metadata": {
      "needs_background": "light"
     },
     "output_type": "display_data"
    }
   ],
   "source": [
    "# Highest accident counts by model\n",
    "\n",
    "\n",
    "filtered_models.tail(10).plot(kind='barh', legend=True, figsize = (10,8))\n",
    "plt.title('Unsafe Aircraft models(Highest Accident Counts and Fatalities)')\n",
    "plt.xlabel('Number of Accidents and Fatalities')\n",
    "plt.show()"
   ]
  },
  {
   "cell_type": "markdown",
   "metadata": {},
   "source": [
    "### Unsafe aircrafts Notes\n",
    "The bar graph above is a plot of Aircraft models against the number of accidents and the fatalities associated to them. I used the 'filtered_models' dataframe which is a subset of the main dataframe which shows the aircraft model, number of accidents and fatalities only. As we can learn from the legend, the blue color shows the number of accidents whereas the orange color shows the fatalities.\n",
    "* Analysis:   \n",
    "Most of the models had a higher number of accidents compared to the resulting fatalities in each case except for the model 737 which had so many fatalities and barely small number of accidents.\n",
    "I advice the head of aviation division to keep off from all these ten aircrafts as they may result in losses due to the high number of accidents and fatalities associated with them."
   ]
  },
  {
   "cell_type": "code",
   "execution_count": 95,
   "metadata": {},
   "outputs": [
    {
     "data": {
      "image/png": "[encoded data removed]",
      "text/plain": [
       "<Figure size 720x576 with 1 Axes>"
      ]
     },
     "metadata": {
      "needs_background": "light"
     },
     "output_type": "display_data"
    }
   ],
   "source": [
    "# Bar Chart (Safest Models)\n",
    "# Plot top 10 safest models using filtered_models.head(10)\n",
    "\n",
    "filtered_models.head(10).plot(kind='barh', legend=True, figsize = (10,8))\n",
    "plt.title('Top 10 Safest Aircraft Models (Fewest Accidents and Fatalities)')\n",
    "plt.xlabel('Number of Accidents and Fatalities')\n",
    "plt.show()"
   ]
  },
  {
   "cell_type": "markdown",
   "metadata": {},
   "source": [
    "### Top Ten Safest Models\n",
    "This is a plot of the filtered_models.head(10). These show those aircraft models with the lowest number of accidents and fatalities, hence considered to be safer. I used both the number of accidents and number of fatalities because to come up with a conclusion because there are instances where you can find a high number of accidents but fewer fatalities. \n",
    "In this case all the ten aircraft models had about one accident(blue bar), eight of them had no fatalities and the two models at the bottom had very high fatalities resulting from the same number of accidents as the others. Even if the number of accidents wasn't extremely high, when accidents happened with these models, they were often very deadly.\n",
    "\n"
   ]
  },
  {
   "cell_type": "code",
   "execution_count": 96,
   "metadata": {},
   "outputs": [
    {
     "data": {
      "text/plain": [
       "Text(0.5, 1.0, 'Accidents by Flight Phase')"
      ]
     },
     "execution_count": 96,
     "metadata": {},
     "output_type": "execute_result"
    },
    {
     "data": {
      "image/png": "[encoded data removed]",
      "text/plain": [
       "<Figure size 432x288 with 1 Axes>"
      ]
     },
     "metadata": {},
     "output_type": "display_data"
    }
   ],
   "source": [
    "# Group by 'Broad.phase.of.flight' (e.g., takeoff, landing)\n",
    "\n",
    "phase_counts = Aviation_df_clean[BROAD_PHASE_OF_FLIGHT].value_counts().head(5)\n",
    "phase_counts.plot(kind='pie', autopct='%1.1f%%')\n",
    "plt.title('Accidents by Flight Phase')"
   ]
  },
  {
   "cell_type": "markdown",
   "metadata": {},
   "source": [
    "### Accidents by Flight Phase analysis\n",
    "\n",
    "As we can see from the above pie chart most accidents occur at an unknown phase. Then it is followed by: landing, take-off, Cruise, Maneuvering in that order. From this I advise that upon acquisition of the aircraft more training will be needed on landing and take-offs to minimize accidents. "
   ]
  },
  {
   "cell_type": "markdown",
   "metadata": {},
   "source": []
  },
  {
   "cell_type": "code",
   "execution_count": 97,
   "metadata": {},
   "outputs": [
    {
     "data": {
      "text/plain": [
       "Purpose.of.flight\n",
       "ASHO                           14.0\n",
       "Aerial Application            269.0\n",
       "Aerial Observation            251.0\n",
       "Air Drop                       10.0\n",
       "Air Race show                  42.0\n",
       "Air Race/show                  34.0\n",
       "Banner Tow                     19.0\n",
       "Business                      633.0\n",
       "Executive/corporate           311.0\n",
       "External Load                  39.0\n",
       "Ferry                         229.0\n",
       "Firefighting                   37.0\n",
       "Flight Test                   127.0\n",
       "Glider Tow                     16.0\n",
       "Instructional                 992.0\n",
       "Other Work Use                284.0\n",
       "PUBL                            0.0\n",
       "PUBS                            0.0\n",
       "Personal                     8289.0\n",
       "Positioning                   349.0\n",
       "Public Aircraft               136.0\n",
       "Public Aircraft - Federal      41.0\n",
       "Public Aircraft - Local        13.0\n",
       "Public Aircraft - State        23.0\n",
       "Skydiving                      63.0\n",
       "Unknown                      1606.0\n",
       "Name: Total.Fatal.Injuries, dtype: float64"
      ]
     },
     "execution_count": 97,
     "metadata": {},
     "output_type": "execute_result"
    }
   ],
   "source": [
    "#groupby the Purpose of flight using the total fatal injuries\n",
    "\n",
    "Aviation_df_clean[PURPOSE_OF_FLIGHT].value_counts()\n",
    "\n",
    "\n",
    "Aviation_df_clean.groupby(PURPOSE_OF_FLIGHT)['Total.Fatal.Injuries'].sum()"
   ]
  },
  {
   "cell_type": "markdown",
   "metadata": {},
   "source": [
    "From the grouping above we can see that the number of fatalities is distributed across the various purposes of flights. Hence we can't decide on which aircraft to acquire based on the purpose of flight."
   ]
  },
  {
   "cell_type": "code",
   "execution_count": 98,
   "metadata": {},
   "outputs": [
    {
     "name": "stdout",
     "output_type": "stream",
     "text": [
      "                                num_accidents  total_fatalities\n",
      "Make                                                           \n",
      "107.5 FLYING CORPORATION                    1               1.0\n",
      "MOONEY AIRCRAFT                             1               0.0\n",
      "MOON                                        1               1.0\n",
      "MOODY-SIPLE                                 1               0.0\n",
      "MOODY                                       1               0.0\n",
      "MONTGOMERY                                  1               0.0\n",
      "MONTE CLARK                                 1               0.0\n",
      "MOONEY AIRCRAFT CORP                        1               0.0\n",
      "MONTANA                                     1               0.0\n",
      "MONROE DENNIS                               1               2.0\n",
      "MONNETT JOHN T JR                           1               2.0\n",
      "MONARD                                      1               1.0\n",
      "MONAGHAN                                    1               0.0\n",
      "MOHR                                        1               0.0\n",
      "MOFFITT OSCAR/ KIT PROSTAR A/C              1               0.0\n",
      "MONROIG PEDRO J                             1               1.0\n",
      "MOONEY AIRCRAFT CORPORATION                 1               2.0\n",
      "MOONEY AIRPLANE COMPANY, INC.               1               0.0\n",
      "MOONEY INTERNATIONAL CORP                   1               0.0\n",
      "MORMILE FRANCIS W                           1               0.0\n",
      "MORK                                        1               0.0\n",
      "MORIARTY MARVIN                             1               1.0\n",
      "MORGAN, MARVIN R.                           1               0.0\n",
      "MORGAN JAMES E                              1               0.0\n",
      "MOREHEAD                                    1               0.0\n",
      "MORANE-SAULNIER                             1               0.0\n",
      "MORAN                                       1               0.0\n",
      "MOORE THOMAS O                              1               0.0\n",
      "MOORE SAMMIE                                1               1.0\n",
      "MOORE JOSEPH O                              1               2.0\n",
      "MOORE GLENN                                 1               1.0\n",
      "MOORE EDWARD R                              1               1.0\n",
      "MOORE DAVID                                 1               0.0\n",
      "MOORE BYRON J                               1               0.0\n",
      "MOE-PIETENPOL                               1               0.0\n",
      "MORPHEW                                     1               2.0\n",
      "MOCKLER                                     1               1.0\n",
      "MKII CORPORATION                            1               0.0\n",
      "MILLER-THORP                                1               0.0\n",
      "MILLER STEVEN M                             1               0.0\n",
      "MILLER ROGER                                1               0.0\n",
      "MILLER RAYMOND A                            1               1.0\n",
      "MILLER J KIRTLEY                            1               1.0\n",
      "MILLER GREGORY SCOTT                        1               0.0\n",
      "MILLER/CULPEPPER                            1               0.0\n",
      "MILLER GREGORY S                            1               0.0\n",
      "MILHOLLAND                                  1               0.0\n",
      "MILESKI                                     1               0.0\n",
      "MIL DESIGN BUREAU                           1              13.0\n",
      "MIKOYAN MIG                                 1               1.0\n"
     ]
    }
   ],
   "source": [
    "\n",
    "# Group by aircraft make and count accidents\n",
    "\n",
    "accidents_by_make = Aviation_df_clean.groupby(MAKE)\n",
    "accidents_by_make =accidents_by_make.agg(\n",
    "       num_accidents=(EVENT_ID, 'count'),\n",
    "    total_fatalities=(TOTAL_FATAL_INJURIES, 'sum')\n",
    ")\n",
    "accidents_by_make = accidents_by_make.sort_values('num_accidents', ascending=True)\n",
    "\n",
    "# Filter models with <=10 accidents\n",
    "filtered_make = accidents_by_make[accidents_by_make['num_accidents'] <= 10]\n",
    "\n",
    "# Top 10 safest models (fewest accidents)\n",
    "print(filtered_make.head(50))"
   ]
  },
  {
   "cell_type": "code",
   "execution_count": 99,
   "metadata": {},
   "outputs": [
    {
     "data": {
      "image/png": "[encoded data removed]",
      "text/plain": [
       "<Figure size 720x576 with 1 Axes>"
      ]
     },
     "metadata": {
      "needs_background": "light"
     },
     "output_type": "display_data"
    }
   ],
   "source": [
    "filtered_make.head(10).plot(kind='barh', legend=False, figsize = (10,8))\n",
    "plt.title('Safe Aircraft makes(Lowest Accident and Fatality Counts)')\n",
    "plt.xlabel('Number of Accidents')\n",
    "plt.show()"
   ]
  },
  {
   "cell_type": "markdown",
   "metadata": {},
   "source": [
    "### Safe Aircraft Makes graph\n",
    "This graph analyses the aircraft makes using the number of accidents and fatalities to come uo with the list of those aircrafts with lowest potential risks. Since all the ten makes have one accident I will consider the number of fatalities in order to make a conclusion.\n",
    " \n",
    "Three Makes (107.5 FLYING CORPORATION, MOONEY AIRCRAFT AND MONROE DENNIS) have fatalities where Monroe Dennis has so many fatalities resulting from a low number of accidents.\n",
    "I will advise the Division Head to avoid these three. The other seven Makes can be considered for acquisition."
   ]
  },
  {
   "cell_type": "code",
   "execution_count": 100,
   "metadata": {},
   "outputs": [
    {
     "data": {
      "image/png": "[encoded data removed]",
      "text/plain": [
       "<Figure size 720x432 with 1 Axes>"
      ]
     },
     "metadata": {
      "needs_background": "light"
     },
     "output_type": "display_data"
    }
   ],
   "source": [
    "# Accidents graph over the years from the year 2000\n",
    "accidents_by_year = Aviation_df_clean.groupby(YEAR).agg(\n",
    "    num_accidents=(EVENT_ID, 'count'),\n",
    "    total_fatalities=(TOTAL_FATAL_INJURIES, 'sum')\n",
    ").reset_index()\n",
    "accidents_by_year = accidents_by_year.sort_values(YEAR, ascending=True)\n",
    "plt.figure(figsize=(10, 6))\n",
    "plt.plot(accidents_by_year[YEAR], accidents_by_year['num_accidents'], marker='o', label='Number of Accidents')\n",
    "plt.plot(accidents_by_year[YEAR], accidents_by_year['total_fatalities'], marker='o', label='Total Fatalities')\n",
    "plt.title('Accidents and Fatalities Over the Years')\n",
    "plt.xlabel('Year')\n",
    "plt.ylabel('Count')\n",
    "plt.legend()\n",
    "plt.grid(True)\n",
    "plt.show()"
   ]
  },
  {
   "cell_type": "markdown",
   "metadata": {},
   "source": [
    "From the above graph we can say the graph of accidents/fatalities has a neagative slope. This means that the number is reducing over time. So I advice the management and head of the new Aviation Division to go on and purchase the recommended aircrafts. "
   ]
  },
  {
   "cell_type": "markdown",
   "metadata": {},
   "source": [
    "RECOMMENDATIONS\n",
    "\n",
    "1. I recommend the head of Aviation Division to consider acquisition from the eight models, that is, LA250, LA-250, LA 4 200, LA4, LA1, L60, L382G(C-130) and LA4-270T. These are those aircrafts which have few accidents and few number of fatalities associated to the accidents as can be seen from the graph : *Top 10 safest aircrafts*.\n",
    "\n",
    "2. Based on the analysis, three aircraft makes — 107.5 Flying Corporation, Mooney Aircraft, and Monroe Dennis — recorded fatalities, with Monroe Dennis showing particularly high risk.\n",
    "I recommend the Division Head avoids these three makes and considers the remaining seven for potential fleet acquisition after further evaluation.\n",
    "\n",
    "3. From the graph of Number of accidents over the years, based on this trend and the earlier risk assessment, I recommend that management proceed with the acquisition of the selected aircraft makes/models, while maintaining regular safety evaluations to ensure continued operational reliability."
   ]
  }
 ],
 "metadata": {
  "kernelspec": {
   "display_name": "learn-env",
   "language": "python",
   "name": "python3"
  },
  "language_info": {
   "codemirror_mode": {
    "name": "ipython",
    "version": 3
   },
   "file_extension": ".py",
   "mimetype": "text/x-python",
   "name": "python",
   "nbconvert_exporter": "python",
   "pygments_lexer": "ipython3",
   "version": "3.8.5"
  }
 },
 "nbformat": 4,
 "nbformat_minor": 2
}
